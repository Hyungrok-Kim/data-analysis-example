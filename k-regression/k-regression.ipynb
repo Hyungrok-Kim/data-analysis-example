{
 "cells": [
  {
   "cell_type": "markdown",
   "id": "94e9f687",
   "metadata": {},
   "source": [
    "# 필요 라이브러리 목록"
   ]
  },
  {
   "cell_type": "code",
   "execution_count": null,
   "id": "e39564ce",
   "metadata": {},
   "outputs": [],
   "source": [
    "import pandas as pd\n",
    "import numpy as np\n",
    "from math import sqrt\n",
    "\n",
    "import seaborn as sns\n",
    "\n",
    "import matplotlib.pyplot as plt\n",
    "%matplotlib inline\n",
    "\n",
    "from sklearn.model_selection import train_test_split\n",
    "from sklearn.neighbors import KNeighborsRegressor\n",
    "from sklearn.metrics import mean_squared_error\n",
    "from sklearn import neighbors\n",
    "from sklearn.metrics import accuracy_score, precision_score, recall_score, f1_score\n",
    "from sklearn.metrics import confusion_matrix, classification_report\n"
   ]
  },
  {
   "cell_type": "markdown",
   "id": "a72c079b",
   "metadata": {},
   "source": [
    "# 1. 데이터 소개 및 Excel 파일 Import"
   ]
  },
  {
   "cell_type": "code",
   "execution_count": 106,
   "id": "bcde0354",
   "metadata": {},
   "outputs": [
    {
     "data": {
      "text/html": [
       "<div>\n",
       "<style scoped>\n",
       "    .dataframe tbody tr th:only-of-type {\n",
       "        vertical-align: middle;\n",
       "    }\n",
       "\n",
       "    .dataframe tbody tr th {\n",
       "        vertical-align: top;\n",
       "    }\n",
       "\n",
       "    .dataframe thead th {\n",
       "        text-align: right;\n",
       "    }\n",
       "</style>\n",
       "<table border=\"1\" class=\"dataframe\">\n",
       "  <thead>\n",
       "    <tr style=\"text-align: right;\">\n",
       "      <th></th>\n",
       "      <th>idx</th>\n",
       "      <th>lineCode</th>\n",
       "      <th>processCode</th>\n",
       "      <th>hogi</th>\n",
       "      <th>barcodeName</th>\n",
       "      <th>operator</th>\n",
       "      <th>butNum</th>\n",
       "      <th>inspDate</th>\n",
       "      <th>inspTime</th>\n",
       "      <th>result</th>\n",
       "      <th>...</th>\n",
       "      <th>2_2_Volt_resMeasure</th>\n",
       "      <th>2_2_Result</th>\n",
       "      <th>3_1_TestStart</th>\n",
       "      <th>3_1_Result</th>\n",
       "      <th>3_2_Volt_resMeasure</th>\n",
       "      <th>3_2_Result</th>\n",
       "      <th>4_1_TestStart</th>\n",
       "      <th>4_1_Result</th>\n",
       "      <th>4_2_Volt_resMeasure</th>\n",
       "      <th>4_2_Result</th>\n",
       "    </tr>\n",
       "  </thead>\n",
       "  <tbody>\n",
       "    <tr>\n",
       "      <th>0</th>\n",
       "      <td>1396224</td>\n",
       "      <td>B1</td>\n",
       "      <td>IR</td>\n",
       "      <td>1</td>\n",
       "      <td>MFR01089AB:2102263545V</td>\n",
       "      <td>223635</td>\n",
       "      <td>1</td>\n",
       "      <td>2021-12-18</td>\n",
       "      <td>07:16:18</td>\n",
       "      <td>FAIL</td>\n",
       "      <td>...</td>\n",
       "      <td>0.003[kV], 0[Ω]</td>\n",
       "      <td>F</td>\n",
       "      <td>0</td>\n",
       "      <td>SKIP</td>\n",
       "      <td>0</td>\n",
       "      <td>SKIP</td>\n",
       "      <td>0</td>\n",
       "      <td>SKIP</td>\n",
       "      <td>0</td>\n",
       "      <td>SKIP</td>\n",
       "    </tr>\n",
       "    <tr>\n",
       "      <th>1</th>\n",
       "      <td>292864</td>\n",
       "      <td>B1</td>\n",
       "      <td>IR</td>\n",
       "      <td>1</td>\n",
       "      <td>MFR01089AB:2102263545V</td>\n",
       "      <td>223635</td>\n",
       "      <td>1</td>\n",
       "      <td>2021-12-09</td>\n",
       "      <td>07:13:07</td>\n",
       "      <td>FAIL</td>\n",
       "      <td>...</td>\n",
       "      <td>0.003[kV], 0[Ω]</td>\n",
       "      <td>F</td>\n",
       "      <td>0</td>\n",
       "      <td>SKIP</td>\n",
       "      <td>0</td>\n",
       "      <td>SKIP</td>\n",
       "      <td>0</td>\n",
       "      <td>SKIP</td>\n",
       "      <td>0</td>\n",
       "      <td>SKIP</td>\n",
       "    </tr>\n",
       "    <tr>\n",
       "      <th>2</th>\n",
       "      <td>103424</td>\n",
       "      <td>B1</td>\n",
       "      <td>IR</td>\n",
       "      <td>1</td>\n",
       "      <td>MFR01089AB:2102263545V</td>\n",
       "      <td>223635</td>\n",
       "      <td>1</td>\n",
       "      <td>2021-12-11</td>\n",
       "      <td>07:12:38</td>\n",
       "      <td>FAIL</td>\n",
       "      <td>...</td>\n",
       "      <td>0.003[kV], 0[Ω]</td>\n",
       "      <td>F</td>\n",
       "      <td>0</td>\n",
       "      <td>SKIP</td>\n",
       "      <td>0</td>\n",
       "      <td>SKIP</td>\n",
       "      <td>0</td>\n",
       "      <td>SKIP</td>\n",
       "      <td>0</td>\n",
       "      <td>SKIP</td>\n",
       "    </tr>\n",
       "    <tr>\n",
       "      <th>3</th>\n",
       "      <td>1177856</td>\n",
       "      <td>B1</td>\n",
       "      <td>IR</td>\n",
       "      <td>1</td>\n",
       "      <td>MFR01089AB:2102263545V</td>\n",
       "      <td>223635</td>\n",
       "      <td>1</td>\n",
       "      <td>2021-12-14</td>\n",
       "      <td>07:14:33</td>\n",
       "      <td>FAIL</td>\n",
       "      <td>...</td>\n",
       "      <td>0.003[kV], 0[Ω]</td>\n",
       "      <td>F</td>\n",
       "      <td>0</td>\n",
       "      <td>SKIP</td>\n",
       "      <td>0</td>\n",
       "      <td>SKIP</td>\n",
       "      <td>0</td>\n",
       "      <td>SKIP</td>\n",
       "      <td>0</td>\n",
       "      <td>SKIP</td>\n",
       "    </tr>\n",
       "    <tr>\n",
       "      <th>4</th>\n",
       "      <td>398337</td>\n",
       "      <td>B1</td>\n",
       "      <td>IR</td>\n",
       "      <td>1</td>\n",
       "      <td>MFR01089AB:2102263545V</td>\n",
       "      <td>223635</td>\n",
       "      <td>1</td>\n",
       "      <td>2021-12-10</td>\n",
       "      <td>07:13:35</td>\n",
       "      <td>FAIL</td>\n",
       "      <td>...</td>\n",
       "      <td>0.003[kV], 0[Ω]</td>\n",
       "      <td>F</td>\n",
       "      <td>0</td>\n",
       "      <td>SKIP</td>\n",
       "      <td>0</td>\n",
       "      <td>SKIP</td>\n",
       "      <td>0</td>\n",
       "      <td>SKIP</td>\n",
       "      <td>0</td>\n",
       "      <td>SKIP</td>\n",
       "    </tr>\n",
       "    <tr>\n",
       "      <th>...</th>\n",
       "      <td>...</td>\n",
       "      <td>...</td>\n",
       "      <td>...</td>\n",
       "      <td>...</td>\n",
       "      <td>...</td>\n",
       "      <td>...</td>\n",
       "      <td>...</td>\n",
       "      <td>...</td>\n",
       "      <td>...</td>\n",
       "      <td>...</td>\n",
       "      <td>...</td>\n",
       "      <td>...</td>\n",
       "      <td>...</td>\n",
       "      <td>...</td>\n",
       "      <td>...</td>\n",
       "      <td>...</td>\n",
       "      <td>...</td>\n",
       "      <td>...</td>\n",
       "      <td>...</td>\n",
       "      <td>...</td>\n",
       "      <td>...</td>\n",
       "    </tr>\n",
       "    <tr>\n",
       "      <th>1495</th>\n",
       "      <td>1720576</td>\n",
       "      <td>B1</td>\n",
       "      <td>IR</td>\n",
       "      <td>1</td>\n",
       "      <td>MFR01089AB;2112233774V</td>\n",
       "      <td>223635</td>\n",
       "      <td>1</td>\n",
       "      <td>2021-12-23</td>\n",
       "      <td>16:09:55</td>\n",
       "      <td>PASS</td>\n",
       "      <td>...</td>\n",
       "      <td>0.502[kV], 40700000000[Ω]</td>\n",
       "      <td>P</td>\n",
       "      <td>0</td>\n",
       "      <td>SKIP</td>\n",
       "      <td>0</td>\n",
       "      <td>SKIP</td>\n",
       "      <td>0</td>\n",
       "      <td>SKIP</td>\n",
       "      <td>0</td>\n",
       "      <td>SKIP</td>\n",
       "    </tr>\n",
       "    <tr>\n",
       "      <th>1496</th>\n",
       "      <td>1917184</td>\n",
       "      <td>B1</td>\n",
       "      <td>IR</td>\n",
       "      <td>1</td>\n",
       "      <td>MFR01089AB;2112164536V</td>\n",
       "      <td>223635</td>\n",
       "      <td>1</td>\n",
       "      <td>2021-12-16</td>\n",
       "      <td>18:51:08</td>\n",
       "      <td>PASS</td>\n",
       "      <td>...</td>\n",
       "      <td>0.5[kV], 37500000000[Ω]</td>\n",
       "      <td>P</td>\n",
       "      <td>0</td>\n",
       "      <td>SKIP</td>\n",
       "      <td>0</td>\n",
       "      <td>SKIP</td>\n",
       "      <td>0</td>\n",
       "      <td>SKIP</td>\n",
       "      <td>0</td>\n",
       "      <td>SKIP</td>\n",
       "    </tr>\n",
       "    <tr>\n",
       "      <th>1497</th>\n",
       "      <td>2113792</td>\n",
       "      <td>B1</td>\n",
       "      <td>IR</td>\n",
       "      <td>1</td>\n",
       "      <td>MFR01089AB;2112100686V</td>\n",
       "      <td>223635</td>\n",
       "      <td>1</td>\n",
       "      <td>2021-12-10</td>\n",
       "      <td>02:52:02</td>\n",
       "      <td>PASS</td>\n",
       "      <td>...</td>\n",
       "      <td>0.5[kV], 46150000000[Ω]</td>\n",
       "      <td>P</td>\n",
       "      <td>0</td>\n",
       "      <td>SKIP</td>\n",
       "      <td>0</td>\n",
       "      <td>SKIP</td>\n",
       "      <td>0</td>\n",
       "      <td>SKIP</td>\n",
       "      <td>0</td>\n",
       "      <td>SKIP</td>\n",
       "    </tr>\n",
       "    <tr>\n",
       "      <th>1498</th>\n",
       "      <td>2244864</td>\n",
       "      <td>B1</td>\n",
       "      <td>IR</td>\n",
       "      <td>1</td>\n",
       "      <td>MFR01089AB;2112230339V</td>\n",
       "      <td>223635</td>\n",
       "      <td>1</td>\n",
       "      <td>2021-12-23</td>\n",
       "      <td>01:44:40</td>\n",
       "      <td>PASS</td>\n",
       "      <td>...</td>\n",
       "      <td>0.5[kV], 38960000000[Ω]</td>\n",
       "      <td>P</td>\n",
       "      <td>0</td>\n",
       "      <td>SKIP</td>\n",
       "      <td>0</td>\n",
       "      <td>SKIP</td>\n",
       "      <td>0</td>\n",
       "      <td>SKIP</td>\n",
       "      <td>0</td>\n",
       "      <td>SKIP</td>\n",
       "    </tr>\n",
       "    <tr>\n",
       "      <th>1499</th>\n",
       "      <td>2441472</td>\n",
       "      <td>B1</td>\n",
       "      <td>IR</td>\n",
       "      <td>1</td>\n",
       "      <td>MFR01089AB;2112154022V</td>\n",
       "      <td>223635</td>\n",
       "      <td>1</td>\n",
       "      <td>2021-12-15</td>\n",
       "      <td>17:41:43</td>\n",
       "      <td>PASS</td>\n",
       "      <td>...</td>\n",
       "      <td>0.5[kV], 42860000000[Ω]</td>\n",
       "      <td>P</td>\n",
       "      <td>0</td>\n",
       "      <td>SKIP</td>\n",
       "      <td>0</td>\n",
       "      <td>SKIP</td>\n",
       "      <td>0</td>\n",
       "      <td>SKIP</td>\n",
       "      <td>0</td>\n",
       "      <td>SKIP</td>\n",
       "    </tr>\n",
       "  </tbody>\n",
       "</table>\n",
       "<p>1500 rows × 23 columns</p>\n",
       "</div>"
      ],
      "text/plain": [
       "          idx lineCode processCode  hogi             barcodeName  operator  \\\n",
       "0     1396224       B1          IR     1  MFR01089AB:2102263545V    223635   \n",
       "1      292864       B1          IR     1  MFR01089AB:2102263545V    223635   \n",
       "2      103424       B1          IR     1  MFR01089AB:2102263545V    223635   \n",
       "3     1177856       B1          IR     1  MFR01089AB:2102263545V    223635   \n",
       "4      398337       B1          IR     1  MFR01089AB:2102263545V    223635   \n",
       "...       ...      ...         ...   ...                     ...       ...   \n",
       "1495  1720576       B1          IR     1  MFR01089AB;2112233774V    223635   \n",
       "1496  1917184       B1          IR     1  MFR01089AB;2112164536V    223635   \n",
       "1497  2113792       B1          IR     1  MFR01089AB;2112100686V    223635   \n",
       "1498  2244864       B1          IR     1  MFR01089AB;2112230339V    223635   \n",
       "1499  2441472       B1          IR     1  MFR01089AB;2112154022V    223635   \n",
       "\n",
       "      butNum    inspDate  inspTime result  ...        2_2_Volt_resMeasure  \\\n",
       "0          1  2021-12-18  07:16:18   FAIL  ...            0.003[kV], 0[Ω]   \n",
       "1          1  2021-12-09  07:13:07   FAIL  ...            0.003[kV], 0[Ω]   \n",
       "2          1  2021-12-11  07:12:38   FAIL  ...            0.003[kV], 0[Ω]   \n",
       "3          1  2021-12-14  07:14:33   FAIL  ...            0.003[kV], 0[Ω]   \n",
       "4          1  2021-12-10  07:13:35   FAIL  ...            0.003[kV], 0[Ω]   \n",
       "...      ...         ...       ...    ...  ...                        ...   \n",
       "1495       1  2021-12-23  16:09:55   PASS  ...  0.502[kV], 40700000000[Ω]   \n",
       "1496       1  2021-12-16  18:51:08   PASS  ...    0.5[kV], 37500000000[Ω]   \n",
       "1497       1  2021-12-10  02:52:02   PASS  ...    0.5[kV], 46150000000[Ω]   \n",
       "1498       1  2021-12-23  01:44:40   PASS  ...    0.5[kV], 38960000000[Ω]   \n",
       "1499       1  2021-12-15  17:41:43   PASS  ...    0.5[kV], 42860000000[Ω]   \n",
       "\n",
       "     2_2_Result 3_1_TestStart 3_1_Result 3_2_Volt_resMeasure  3_2_Result  \\\n",
       "0             F             0       SKIP                   0        SKIP   \n",
       "1             F             0       SKIP                   0        SKIP   \n",
       "2             F             0       SKIP                   0        SKIP   \n",
       "3             F             0       SKIP                   0        SKIP   \n",
       "4             F             0       SKIP                   0        SKIP   \n",
       "...         ...           ...        ...                 ...         ...   \n",
       "1495          P             0       SKIP                   0        SKIP   \n",
       "1496          P             0       SKIP                   0        SKIP   \n",
       "1497          P             0       SKIP                   0        SKIP   \n",
       "1498          P             0       SKIP                   0        SKIP   \n",
       "1499          P             0       SKIP                   0        SKIP   \n",
       "\n",
       "     4_1_TestStart  4_1_Result 4_2_Volt_resMeasure  4_2_Result  \n",
       "0                0        SKIP                   0        SKIP  \n",
       "1                0        SKIP                   0        SKIP  \n",
       "2                0        SKIP                   0        SKIP  \n",
       "3                0        SKIP                   0        SKIP  \n",
       "4                0        SKIP                   0        SKIP  \n",
       "...            ...         ...                 ...         ...  \n",
       "1495             0        SKIP                   0        SKIP  \n",
       "1496             0        SKIP                   0        SKIP  \n",
       "1497             0        SKIP                   0        SKIP  \n",
       "1498             0        SKIP                   0        SKIP  \n",
       "1499             0        SKIP                   0        SKIP  \n",
       "\n",
       "[1500 rows x 23 columns]"
      ]
     },
     "execution_count": 106,
     "metadata": {},
     "output_type": "execute_result"
    }
   ],
   "source": [
    "IR_DataSet = pd.read_csv(\n",
    "            \"Enter your dataset path\",\n",
    "            thousands = ',',\n",
    "            encoding = 'euc-kr')\n",
    "\n",
    "df = pd.DataFrame(IR_DataSet)\n",
    "df"
   ]
  },
  {
   "cell_type": "markdown",
   "id": "dc911c1e",
   "metadata": {},
   "source": [
    "# 2. 데이터 전처리"
   ]
  },
  {
   "cell_type": "markdown",
   "id": "b9eb3943",
   "metadata": {},
   "source": [
    "### 2-1. Outlier 제거"
   ]
  },
  {
   "cell_type": "code",
   "execution_count": null,
   "id": "62b9ce05",
   "metadata": {},
   "outputs": [],
   "source": [
    "df = df.dropna()\n",
    "spac = df[df['2_2_Volt_resMeasure'].str.contains('E37')].index\n",
    "df.drop(spac, inplace=True)"
   ]
  },
  {
   "cell_type": "markdown",
   "id": "ab55d954",
   "metadata": {},
   "source": [
    "### 2-2. 샘플 데이터 수 증가"
   ]
  },
  {
   "cell_type": "code",
   "execution_count": null,
   "id": "b8afbc44",
   "metadata": {},
   "outputs": [],
   "source": [
    "for i in range(8):\n",
    "    df = pd.concat([df, df])\n",
    "\n",
    "df"
   ]
  },
  {
   "cell_type": "markdown",
   "id": "f91a0ab5",
   "metadata": {},
   "source": [
    "### 2-3. 결측값 체크"
   ]
  },
  {
   "cell_type": "code",
   "execution_count": null,
   "id": "974eb8e8",
   "metadata": {},
   "outputs": [],
   "source": [
    "df.isna().sum()"
   ]
  },
  {
   "cell_type": "markdown",
   "id": "aa2250c7",
   "metadata": {},
   "source": [
    "### 2-4. 결측값 제거(결측값 존재 시)"
   ]
  },
  {
   "cell_type": "code",
   "execution_count": null,
   "id": "83c27670",
   "metadata": {},
   "outputs": [],
   "source": [
    "df = df.dropna()\n",
    "df"
   ]
  },
  {
   "cell_type": "code",
   "execution_count": null,
   "id": "b3055c9c",
   "metadata": {},
   "outputs": [],
   "source": [
    "df.columns"
   ]
  },
  {
   "cell_type": "markdown",
   "id": "8e6cb592",
   "metadata": {},
   "source": [
    "### 2-5. 시계열 데이터 생성을 위한 Sorting"
   ]
  },
  {
   "cell_type": "code",
   "execution_count": null,
   "id": "b522c2cb",
   "metadata": {},
   "outputs": [],
   "source": [
    "df = df.sort_values(by=['inspDate', 'inspTime'], axis=0)\n",
    "# df = df.sort_values(by=['inspDate'], axis=0)\n",
    "df.reset_index(inplace=True, drop=True)\n",
    "df"
   ]
  },
  {
   "cell_type": "markdown",
   "id": "0a5519f7",
   "metadata": {},
   "source": [
    "### 2-6. 양 / 불 데이터 비율 확인"
   ]
  },
  {
   "cell_type": "code",
   "execution_count": null,
   "id": "19b96ba2",
   "metadata": {},
   "outputs": [],
   "source": [
    "IROKNG = df.groupby('2_2_Result').hogi.sum()\n",
    "IROKNG"
   ]
  },
  {
   "cell_type": "markdown",
   "id": "716e512a",
   "metadata": {},
   "source": [
    "### 2-7. 2_2_Volt_resMeasure 컬럼 분리 -> 전류, 전압"
   ]
  },
  {
   "cell_type": "code",
   "execution_count": null,
   "id": "222e5c34",
   "metadata": {},
   "outputs": [],
   "source": [
    "import math\n",
    "    \n",
    "tempArray3 = df['2_2_Volt_resMeasure'].str.split(',').str[0]\n",
    "\n",
    "for i in range(len(tempArray3)) :\n",
    "    tempArray3[i] = float(tempArray3[i].replace('[kV]', ''))\n",
    "    \n",
    "tempArray4 = df['2_2_Volt_resMeasure'].str.split(',').str[1]\n",
    "\n",
    "for i in range(len(tempArray4)) :\n",
    "    tempArray4[i] = float(tempArray4[i].replace('[Ω]', ''))\n",
    "\n",
    "df['IR_volt'] = tempArray3\n",
    "df['IR_resMeasure'] = tempArray4\n",
    "\n",
    "# pd.set_option('display.max_rows', None)\n",
    "# pd.options.display.max_rows = 60\n",
    "# pd.options.display.max_columns = 20\n",
    "\n",
    "df[['2_2_Volt_resMeasure', 'IR_volt', 'IR_resMeasure']]"
   ]
  },
  {
   "cell_type": "markdown",
   "id": "37f2fb52",
   "metadata": {},
   "source": [
    "# 3. 데이터 구조 파악"
   ]
  },
  {
   "cell_type": "markdown",
   "id": "bf1e6288",
   "metadata": {},
   "source": [
    "### 3-1. 사분위간 범위 체크 시각화"
   ]
  },
  {
   "cell_type": "code",
   "execution_count": null,
   "id": "ca38e6b4",
   "metadata": {},
   "outputs": [],
   "source": [
    "df = df.astype({'IR_resMeasure':'float'})\n",
    "\n",
    "df['IR_resMeasure'].describe()"
   ]
  },
  {
   "cell_type": "code",
   "execution_count": null,
   "id": "dacd23f1",
   "metadata": {},
   "outputs": [],
   "source": [
    "df.info()\n",
    "df.shape"
   ]
  },
  {
   "cell_type": "code",
   "execution_count": null,
   "id": "a3deb016",
   "metadata": {},
   "outputs": [],
   "source": [
    "sns.boxplot(x = 'lineCode', y = 'IR_resMeasure', data = df, palette = 'Spectral', linewidth = 3, width = 0.5)\n",
    "\n",
    "# plt.xticks(range(2), ['OK', 'NG'])\n",
    "# plt.show()"
   ]
  },
  {
   "cell_type": "markdown",
   "id": "9e1d2981",
   "metadata": {},
   "source": [
    "### 3-2. 시계열 데이터 패턴 확인"
   ]
  },
  {
   "cell_type": "code",
   "execution_count": null,
   "id": "257536fd",
   "metadata": {},
   "outputs": [],
   "source": [
    "# import matplotlib\n",
    "# matplotlib.use('Qt4Agg')\n",
    "import matplotlib.pyplot as plt\n",
    "%matplotlib inline"
   ]
  },
  {
   "cell_type": "code",
   "execution_count": null,
   "id": "feaf83b0",
   "metadata": {},
   "outputs": [],
   "source": [
    "plt.plot(df['IR_resMeasure'])"
   ]
  },
  {
   "cell_type": "code",
   "execution_count": null,
   "id": "c5dd9046",
   "metadata": {},
   "outputs": [],
   "source": [
    "plt.plot(df['IR_volt'])"
   ]
  },
  {
   "cell_type": "markdown",
   "id": "30976c73",
   "metadata": {},
   "source": [
    "# 4. 모델링"
   ]
  },
  {
   "cell_type": "code",
   "execution_count": 84,
   "id": "d288101f",
   "metadata": {},
   "outputs": [],
   "source": [
    "sec = []\n",
    "sec_num = 0\n",
    "\n",
    "for i in range(len(df)):\n",
    "    sec_num += 1\n",
    "    sec.append(sec_num)\n",
    "    if sec_num == 1024: ## 값 변경\n",
    "        sec_num = 0\n",
    "    else:\n",
    "        sec_num = sec_num"
   ]
  },
  {
   "cell_type": "code",
   "execution_count": 85,
   "id": "f1fea26a",
   "metadata": {},
   "outputs": [],
   "source": [
    "df['sec'] = sec"
   ]
  },
  {
   "cell_type": "code",
   "execution_count": 86,
   "id": "021bf3b9",
   "metadata": {},
   "outputs": [],
   "source": [
    "X = df['sec']\n",
    "Y = df['IR_resMeasure']"
   ]
  },
  {
   "cell_type": "code",
   "execution_count": 87,
   "id": "d00ad041",
   "metadata": {},
   "outputs": [],
   "source": [
    "X_train, X_test, Y_train, Y_test = train_test_split(X, Y, test_size = 0.2, random_state=0, shuffle=False)\n",
    "X_train = X_train.values\n",
    "X_test = X_test.values\n",
    "\n",
    "Y_train = Y_train.values\n",
    "Y_test = Y_test.values\n",
    "\n",
    "X_train = X_train.reshape(X_train.shape[0], 1)\n",
    "X_test = X_test.reshape(X_test.shape[0], 1)"
   ]
  },
  {
   "cell_type": "code",
   "execution_count": 88,
   "id": "eb39cc0a",
   "metadata": {},
   "outputs": [
    {
     "name": "stdout",
     "output_type": "stream",
     "text": [
      "RMSE value for K =  1 is :  24660621560.478336\n",
      "RMSE value for K =  2 is :  24984729644.52392\n",
      "RMSE value for K =  3 is :  24902663587.137646\n",
      "RMSE value for K =  4 is :  24795568275.87354\n",
      "RMSE value for K =  5 is :  24522817199.897495\n",
      "RMSE value for K =  6 is :  24275638502.946648\n",
      "RMSE value for K =  7 is :  24079601985.412262\n",
      "RMSE value for K =  8 is :  23365460159.49133\n",
      "RMSE value for K =  9 is :  21801028031.13158\n",
      "RMSE value for K =  10 is :  20963496286.833786\n",
      "RMSE value for K =  11 is :  20587282384.602337\n",
      "RMSE value for K =  12 is :  20477925100.664703\n",
      "RMSE value for K =  13 is :  20522447798.47468\n",
      "RMSE value for K =  14 is :  20640667528.955944\n",
      "RMSE value for K =  15 is :  20598440609.985477\n",
      "RMSE value for K =  16 is :  20487187934.433147\n",
      "RMSE value for K =  17 is :  20394979689.18106\n"
     ]
    }
   ],
   "source": [
    "## 예측, 분류 정확도를 판단하기위한 RMSE 수치 \n",
    "\n",
    "rmse_val = []\n",
    "for K in range(17):\n",
    "    K = K + 1\n",
    "    model = neighbors.KNeighborsRegressor(n_neighbors = K, weights = 'distance')\n",
    "    \n",
    "    model.fit(X_train, Y_train)\n",
    "    pred=model.predict(X_test)\n",
    "    error=sqrt(mean_squared_error(Y_test, pred))\n",
    "    rmse_val.append(error)\n",
    "    print('RMSE value for K = ', K, 'is : ', error)"
   ]
  },
  {
   "cell_type": "code",
   "execution_count": 89,
   "id": "b4e2eb65",
   "metadata": {},
   "outputs": [
    {
     "data": {
      "text/plain": [
       "<AxesSubplot:>"
      ]
     },
     "execution_count": 89,
     "metadata": {},
     "output_type": "execute_result"
    },
    {
     "data": {
      "image/png": "[encoded data removed]",
      "text/plain": [
       "<Figure size 432x288 with 1 Axes>"
      ]
     },
     "metadata": {
      "needs_background": "light"
     },
     "output_type": "display_data"
    }
   ],
   "source": [
    "curve = pd.DataFrame(rmse_val)\n",
    "curve.plot()"
   ]
  },
  {
   "cell_type": "code",
   "execution_count": 90,
   "id": "ff9ae6b6",
   "metadata": {},
   "outputs": [],
   "source": [
    "def sigmoid(x):\n",
    "    return 1 / (1 + np.exp(-x))"
   ]
  },
  {
   "cell_type": "code",
   "execution_count": 91,
   "id": "f748eb1c",
   "metadata": {},
   "outputs": [
    {
     "name": "stdout",
     "output_type": "stream",
     "text": [
      "[3.45394118e+10 2.47552941e+10 2.47552941e+10 ... 2.47194118e+10\n",
      " 2.70423529e+10 2.47600000e+10]\n"
     ]
    }
   ],
   "source": [
    "line = np.linspace(1, 1024, 1024).reshape(-1, 1) ## 데이터셋에 따라 변동\n",
    "\n",
    "reg = KNeighborsRegressor(n_neighbors=17, weights='distance')\n",
    "reg.fit(X_train, Y_train)\n",
    "standard = reg.predict(line)\n",
    "print(standard)"
   ]
  },
  {
   "cell_type": "markdown",
   "id": "ae8a8206",
   "metadata": {},
   "source": [
    "# 5. 검증"
   ]
  },
  {
   "cell_type": "markdown",
   "id": "de4decfb",
   "metadata": {},
   "source": [
    "### 5-1. 상한/하한 임계치 추출"
   ]
  },
  {
   "cell_type": "code",
   "execution_count": 92,
   "id": "4648b418",
   "metadata": {},
   "outputs": [
    {
     "name": "stdout",
     "output_type": "stream",
     "text": [
      "2905968748.2285123\n"
     ]
    }
   ],
   "source": [
    "# 표준 데이터의 표준편차 추출\n",
    "sigma = np.std(standard)\n",
    "print(sigma) ## 표준편차 확인"
   ]
  },
  {
   "cell_type": "code",
   "execution_count": 93,
   "id": "786b594c",
   "metadata": {},
   "outputs": [],
   "source": [
    "#하한 임계치 , 상한 임계치 생성\n",
    "min_standard = standard - 3 * sigma\n",
    "max_standard = standard + 3 * sigma"
   ]
  },
  {
   "cell_type": "code",
   "execution_count": 94,
   "id": "0dcffc90",
   "metadata": {},
   "outputs": [
    {
     "data": {
      "text/plain": [
       "73472"
      ]
     },
     "execution_count": 94,
     "metadata": {},
     "output_type": "execute_result"
    }
   ],
   "source": [
    "# y_test 길이만큼 최소 임계치 반복\n",
    "min_standard_list = []\n",
    "j = 0\n",
    "for i in range(len(Y_test)):\n",
    "    min_standard_list.append(min_standard[j])\n",
    "    j += 1\n",
    "    if j == len(min_standard):\n",
    "        j = 0 # j 초기화\n",
    "len(min_standard_list)"
   ]
  },
  {
   "cell_type": "code",
   "execution_count": 95,
   "id": "4989d71c",
   "metadata": {},
   "outputs": [
    {
     "data": {
      "text/plain": [
       "73472"
      ]
     },
     "execution_count": 95,
     "metadata": {},
     "output_type": "execute_result"
    }
   ],
   "source": [
    "max_standard_list = []\n",
    "j = 0\n",
    "\n",
    "for i in range(len(Y_test)):\n",
    "    max_standard_list.append(max_standard[j])\n",
    "    j += 1\n",
    "    if j == len(max_standard):\n",
    "        j = 0 # j 초기화\n",
    "\n",
    "len(max_standard_list)"
   ]
  },
  {
   "cell_type": "code",
   "execution_count": 96,
   "id": "051e0246",
   "metadata": {},
   "outputs": [
    {
     "data": {
      "text/plain": [
       "73472"
      ]
     },
     "execution_count": 96,
     "metadata": {},
     "output_type": "execute_result"
    }
   ],
   "source": [
    "standard_list = []\n",
    "j = 0\n",
    "\n",
    "for i in range(len(Y_test)):\n",
    "    standard_list.append(standard[j])\n",
    "    j += 1\n",
    "    if j == len(standard):\n",
    "        j = 0 # j 초기화\n",
    "        \n",
    "len(Y_test)"
   ]
  },
  {
   "cell_type": "code",
   "execution_count": 97,
   "id": "ee254713",
   "metadata": {},
   "outputs": [
    {
     "data": {
      "text/html": [
       "<div>\n",
       "<style scoped>\n",
       "    .dataframe tbody tr th:only-of-type {\n",
       "        vertical-align: middle;\n",
       "    }\n",
       "\n",
       "    .dataframe tbody tr th {\n",
       "        vertical-align: top;\n",
       "    }\n",
       "\n",
       "    .dataframe thead th {\n",
       "        text-align: right;\n",
       "    }\n",
       "</style>\n",
       "<table border=\"1\" class=\"dataframe\">\n",
       "  <thead>\n",
       "    <tr style=\"text-align: right;\">\n",
       "      <th></th>\n",
       "      <th>real_y</th>\n",
       "      <th>standard</th>\n",
       "      <th>min_standard</th>\n",
       "      <th>max_standard</th>\n",
       "    </tr>\n",
       "  </thead>\n",
       "  <tbody>\n",
       "    <tr>\n",
       "      <th>0</th>\n",
       "      <td>0.000000e+00</td>\n",
       "      <td>3.453941e+10</td>\n",
       "      <td>2.582151e+10</td>\n",
       "      <td>4.325732e+10</td>\n",
       "    </tr>\n",
       "    <tr>\n",
       "      <th>1</th>\n",
       "      <td>0.000000e+00</td>\n",
       "      <td>2.475529e+10</td>\n",
       "      <td>1.603739e+10</td>\n",
       "      <td>3.347320e+10</td>\n",
       "    </tr>\n",
       "    <tr>\n",
       "      <th>2</th>\n",
       "      <td>0.000000e+00</td>\n",
       "      <td>2.475529e+10</td>\n",
       "      <td>1.603739e+10</td>\n",
       "      <td>3.347320e+10</td>\n",
       "    </tr>\n",
       "    <tr>\n",
       "      <th>3</th>\n",
       "      <td>0.000000e+00</td>\n",
       "      <td>2.475529e+10</td>\n",
       "      <td>1.603739e+10</td>\n",
       "      <td>3.347320e+10</td>\n",
       "    </tr>\n",
       "    <tr>\n",
       "      <th>4</th>\n",
       "      <td>0.000000e+00</td>\n",
       "      <td>2.959353e+10</td>\n",
       "      <td>2.087562e+10</td>\n",
       "      <td>3.831144e+10</td>\n",
       "    </tr>\n",
       "    <tr>\n",
       "      <th>...</th>\n",
       "      <td>...</td>\n",
       "      <td>...</td>\n",
       "      <td>...</td>\n",
       "      <td>...</td>\n",
       "    </tr>\n",
       "    <tr>\n",
       "      <th>73467</th>\n",
       "      <td>4.478000e+10</td>\n",
       "      <td>2.708353e+10</td>\n",
       "      <td>1.836562e+10</td>\n",
       "      <td>3.580144e+10</td>\n",
       "    </tr>\n",
       "    <tr>\n",
       "      <th>73468</th>\n",
       "      <td>4.478000e+10</td>\n",
       "      <td>2.467235e+10</td>\n",
       "      <td>1.595445e+10</td>\n",
       "      <td>3.339026e+10</td>\n",
       "    </tr>\n",
       "    <tr>\n",
       "      <th>73469</th>\n",
       "      <td>4.478000e+10</td>\n",
       "      <td>2.660059e+10</td>\n",
       "      <td>1.788268e+10</td>\n",
       "      <td>3.531849e+10</td>\n",
       "    </tr>\n",
       "    <tr>\n",
       "      <th>73470</th>\n",
       "      <td>4.478000e+10</td>\n",
       "      <td>2.708353e+10</td>\n",
       "      <td>1.836562e+10</td>\n",
       "      <td>3.580144e+10</td>\n",
       "    </tr>\n",
       "    <tr>\n",
       "      <th>73471</th>\n",
       "      <td>4.478000e+10</td>\n",
       "      <td>2.708353e+10</td>\n",
       "      <td>1.836562e+10</td>\n",
       "      <td>3.580144e+10</td>\n",
       "    </tr>\n",
       "  </tbody>\n",
       "</table>\n",
       "<p>73472 rows × 4 columns</p>\n",
       "</div>"
      ],
      "text/plain": [
       "             real_y      standard  min_standard  max_standard\n",
       "0      0.000000e+00  3.453941e+10  2.582151e+10  4.325732e+10\n",
       "1      0.000000e+00  2.475529e+10  1.603739e+10  3.347320e+10\n",
       "2      0.000000e+00  2.475529e+10  1.603739e+10  3.347320e+10\n",
       "3      0.000000e+00  2.475529e+10  1.603739e+10  3.347320e+10\n",
       "4      0.000000e+00  2.959353e+10  2.087562e+10  3.831144e+10\n",
       "...             ...           ...           ...           ...\n",
       "73467  4.478000e+10  2.708353e+10  1.836562e+10  3.580144e+10\n",
       "73468  4.478000e+10  2.467235e+10  1.595445e+10  3.339026e+10\n",
       "73469  4.478000e+10  2.660059e+10  1.788268e+10  3.531849e+10\n",
       "73470  4.478000e+10  2.708353e+10  1.836562e+10  3.580144e+10\n",
       "73471  4.478000e+10  2.708353e+10  1.836562e+10  3.580144e+10\n",
       "\n",
       "[73472 rows x 4 columns]"
      ]
     },
     "execution_count": 97,
     "metadata": {},
     "output_type": "execute_result"
    }
   ],
   "source": [
    "df2 = pd.DataFrame({'real_y':Y_test, 'standard': standard_list,\n",
    "                       'min_standard':min_standard_list,\n",
    "                        'max_standard':max_standard_list\n",
    "                   })\n",
    "\n",
    "df2"
   ]
  },
  {
   "cell_type": "markdown",
   "id": "ef3c4560",
   "metadata": {},
   "source": [
    "### 5-2. 예측"
   ]
  },
  {
   "cell_type": "code",
   "execution_count": 98,
   "id": "96691322",
   "metadata": {},
   "outputs": [],
   "source": [
    "# 하한, 상한 임계치를 Y_test 값과 비교하여 예측 품질 컬럼 추가\n",
    "pred_fault = []\n",
    "for i in range(len(df2)):\n",
    "    if df2['real_y'][i] >= df2['max_standard'][i] or df2['real_y'][i] <= df2['min_standard'][i]:\n",
    "        pred_fault.append(1)\n",
    "    else:\n",
    "        pred_fault.append(0)"
   ]
  },
  {
   "cell_type": "code",
   "execution_count": 99,
   "id": "c09da513",
   "metadata": {},
   "outputs": [],
   "source": [
    "real_fault = []\n",
    "for i in range(len(df2)):\n",
    "    if df['2_2_Result'][293888+i] == 'F': ## 값변경\n",
    "        real_fault.append(1)\n",
    "    else:\n",
    "        real_fault.append(0)"
   ]
  },
  {
   "cell_type": "code",
   "execution_count": 100,
   "id": "5d05caa1",
   "metadata": {},
   "outputs": [
    {
     "data": {
      "text/html": [
       "<div>\n",
       "<style scoped>\n",
       "    .dataframe tbody tr th:only-of-type {\n",
       "        vertical-align: middle;\n",
       "    }\n",
       "\n",
       "    .dataframe tbody tr th {\n",
       "        vertical-align: top;\n",
       "    }\n",
       "\n",
       "    .dataframe thead th {\n",
       "        text-align: right;\n",
       "    }\n",
       "</style>\n",
       "<table border=\"1\" class=\"dataframe\">\n",
       "  <thead>\n",
       "    <tr style=\"text-align: right;\">\n",
       "      <th></th>\n",
       "      <th>real_y</th>\n",
       "      <th>standard</th>\n",
       "      <th>min_standard</th>\n",
       "      <th>max_standard</th>\n",
       "      <th>pred_fault</th>\n",
       "      <th>real_fault</th>\n",
       "    </tr>\n",
       "  </thead>\n",
       "  <tbody>\n",
       "    <tr>\n",
       "      <th>0</th>\n",
       "      <td>0.000000e+00</td>\n",
       "      <td>3.453941e+10</td>\n",
       "      <td>2.582151e+10</td>\n",
       "      <td>4.325732e+10</td>\n",
       "      <td>1</td>\n",
       "      <td>1</td>\n",
       "    </tr>\n",
       "    <tr>\n",
       "      <th>1</th>\n",
       "      <td>0.000000e+00</td>\n",
       "      <td>2.475529e+10</td>\n",
       "      <td>1.603739e+10</td>\n",
       "      <td>3.347320e+10</td>\n",
       "      <td>1</td>\n",
       "      <td>1</td>\n",
       "    </tr>\n",
       "    <tr>\n",
       "      <th>2</th>\n",
       "      <td>0.000000e+00</td>\n",
       "      <td>2.475529e+10</td>\n",
       "      <td>1.603739e+10</td>\n",
       "      <td>3.347320e+10</td>\n",
       "      <td>1</td>\n",
       "      <td>1</td>\n",
       "    </tr>\n",
       "    <tr>\n",
       "      <th>3</th>\n",
       "      <td>0.000000e+00</td>\n",
       "      <td>2.475529e+10</td>\n",
       "      <td>1.603739e+10</td>\n",
       "      <td>3.347320e+10</td>\n",
       "      <td>1</td>\n",
       "      <td>1</td>\n",
       "    </tr>\n",
       "    <tr>\n",
       "      <th>4</th>\n",
       "      <td>0.000000e+00</td>\n",
       "      <td>2.959353e+10</td>\n",
       "      <td>2.087562e+10</td>\n",
       "      <td>3.831144e+10</td>\n",
       "      <td>1</td>\n",
       "      <td>1</td>\n",
       "    </tr>\n",
       "    <tr>\n",
       "      <th>...</th>\n",
       "      <td>...</td>\n",
       "      <td>...</td>\n",
       "      <td>...</td>\n",
       "      <td>...</td>\n",
       "      <td>...</td>\n",
       "      <td>...</td>\n",
       "    </tr>\n",
       "    <tr>\n",
       "      <th>73467</th>\n",
       "      <td>4.478000e+10</td>\n",
       "      <td>2.708353e+10</td>\n",
       "      <td>1.836562e+10</td>\n",
       "      <td>3.580144e+10</td>\n",
       "      <td>1</td>\n",
       "      <td>0</td>\n",
       "    </tr>\n",
       "    <tr>\n",
       "      <th>73468</th>\n",
       "      <td>4.478000e+10</td>\n",
       "      <td>2.467235e+10</td>\n",
       "      <td>1.595445e+10</td>\n",
       "      <td>3.339026e+10</td>\n",
       "      <td>1</td>\n",
       "      <td>0</td>\n",
       "    </tr>\n",
       "    <tr>\n",
       "      <th>73469</th>\n",
       "      <td>4.478000e+10</td>\n",
       "      <td>2.660059e+10</td>\n",
       "      <td>1.788268e+10</td>\n",
       "      <td>3.531849e+10</td>\n",
       "      <td>1</td>\n",
       "      <td>0</td>\n",
       "    </tr>\n",
       "    <tr>\n",
       "      <th>73470</th>\n",
       "      <td>4.478000e+10</td>\n",
       "      <td>2.708353e+10</td>\n",
       "      <td>1.836562e+10</td>\n",
       "      <td>3.580144e+10</td>\n",
       "      <td>1</td>\n",
       "      <td>0</td>\n",
       "    </tr>\n",
       "    <tr>\n",
       "      <th>73471</th>\n",
       "      <td>4.478000e+10</td>\n",
       "      <td>2.708353e+10</td>\n",
       "      <td>1.836562e+10</td>\n",
       "      <td>3.580144e+10</td>\n",
       "      <td>1</td>\n",
       "      <td>0</td>\n",
       "    </tr>\n",
       "  </tbody>\n",
       "</table>\n",
       "<p>73472 rows × 6 columns</p>\n",
       "</div>"
      ],
      "text/plain": [
       "             real_y      standard  min_standard  max_standard  pred_fault  \\\n",
       "0      0.000000e+00  3.453941e+10  2.582151e+10  4.325732e+10           1   \n",
       "1      0.000000e+00  2.475529e+10  1.603739e+10  3.347320e+10           1   \n",
       "2      0.000000e+00  2.475529e+10  1.603739e+10  3.347320e+10           1   \n",
       "3      0.000000e+00  2.475529e+10  1.603739e+10  3.347320e+10           1   \n",
       "4      0.000000e+00  2.959353e+10  2.087562e+10  3.831144e+10           1   \n",
       "...             ...           ...           ...           ...         ...   \n",
       "73467  4.478000e+10  2.708353e+10  1.836562e+10  3.580144e+10           1   \n",
       "73468  4.478000e+10  2.467235e+10  1.595445e+10  3.339026e+10           1   \n",
       "73469  4.478000e+10  2.660059e+10  1.788268e+10  3.531849e+10           1   \n",
       "73470  4.478000e+10  2.708353e+10  1.836562e+10  3.580144e+10           1   \n",
       "73471  4.478000e+10  2.708353e+10  1.836562e+10  3.580144e+10           1   \n",
       "\n",
       "       real_fault  \n",
       "0               1  \n",
       "1               1  \n",
       "2               1  \n",
       "3               1  \n",
       "4               1  \n",
       "...           ...  \n",
       "73467           0  \n",
       "73468           0  \n",
       "73469           0  \n",
       "73470           0  \n",
       "73471           0  \n",
       "\n",
       "[73472 rows x 6 columns]"
      ]
     },
     "execution_count": 100,
     "metadata": {},
     "output_type": "execute_result"
    }
   ],
   "source": [
    "df2['pred_fault'] = pred_fault\n",
    "df2['real_fault'] = real_fault\n",
    "df2"
   ]
  },
  {
   "cell_type": "markdown",
   "id": "79a4791b",
   "metadata": {},
   "source": [
    "### 5-3. 예측 결과 시각화"
   ]
  },
  {
   "cell_type": "code",
   "execution_count": null,
   "id": "28f60e9d",
   "metadata": {},
   "outputs": [],
   "source": [
    "from sklearn.metrics import accuracy_score, precision_score, recall_score, f1_score\n",
    "from sklearn.metrics import confusion_matrix, classification_report\n",
    "import seaborn as sns\n",
    "sns.set(font_scale=2)"
   ]
  },
  {
   "cell_type": "code",
   "execution_count": 101,
   "id": "959d08e3",
   "metadata": {},
   "outputs": [
    {
     "data": {
      "image/png": "[encoded data removed]",
      "text/plain": [
       "<Figure size 1080x288 with 1 Axes>"
      ]
     },
     "metadata": {
      "needs_background": "light"
     },
     "output_type": "display_data"
    }
   ],
   "source": [
    "plt.figure(figsize=(15,4))\n",
    "\n",
    "plt.plot(df2['real_y'], 'black', label='real_y')\n",
    "plt.plot(df2['min_standard'], 'b', label='min')\n",
    "plt.plot(df2['max_standard'], 'b', label='max')\n",
    "plt.plot(df2['standard'], 'r', label='standard')\n",
    "\n",
    "plt.xlabel('Time')\n",
    "plt.ylabel('result Data')\n",
    "plt.title('Fault Checking')\n",
    "\n",
    "plt.legend(loc='best', ncol=4, fontsize=15)\n",
    "plt.show()"
   ]
  },
  {
   "cell_type": "markdown",
   "id": "109ab082",
   "metadata": {},
   "source": [
    "### 5-4. 모델 평가"
   ]
  },
  {
   "cell_type": "code",
   "execution_count": 102,
   "id": "3204574d",
   "metadata": {},
   "outputs": [
    {
     "name": "stdout",
     "output_type": "stream",
     "text": [
      "정밀도 :  37.0 % 입니다.\n",
      "정확도 :  40.0 % 입니다.\n",
      "재현율 :  100.0 % 입니다.\n",
      "f1-score :  54.0 % 입니다.\n"
     ]
    }
   ],
   "source": [
    "print('정밀도 : ', round(precision_score(df2['real_fault'], df2['pred_fault']), 2) * 100, '% 입니다.')\n",
    "print('정확도 : ', round(accuracy_score(df2['real_fault'], df2['pred_fault']), 2) * 100, '% 입니다.')\n",
    "print('재현율 : ', round(recall_score(df2['real_fault'], df2['pred_fault']), 2) * 100, '% 입니다.')\n",
    "print('f1-score : ', round(f1_score(df2['real_fault'], df2['pred_fault']), 2) * 100, '% 입니다.')"
   ]
  },
  {
   "cell_type": "code",
   "execution_count": 103,
   "id": "af327d5a",
   "metadata": {},
   "outputs": [
    {
     "name": "stdout",
     "output_type": "stream",
     "text": [
      "[[25344     0]\n",
      " [43833  4295]]\n",
      "              precision    recall  f1-score   support\n",
      "\n",
      "          정상       1.00      0.09      0.16     48128\n",
      "          불량       0.37      1.00      0.54     25344\n",
      "\n",
      "    accuracy                           0.40     73472\n",
      "   macro avg       0.68      0.54      0.35     73472\n",
      "weighted avg       0.78      0.40      0.29     73472\n",
      "\n"
     ]
    }
   ],
   "source": [
    "print(confusion_matrix(df2['real_fault'], df2['pred_fault'], labels=[1, 0]))\n",
    "print(classification_report(df2['real_fault'], df2['pred_fault'], target_names=['정상', '불량']))\n",
    "\n",
    "# 데이터 중 실제 불량인 경우 25344 + 0 = 25344\n",
    "# 모델을 이용한 예측결과가 불량인 경우 25344 + 46331 = 71675\n",
    "\n",
    "# 데이터 중 실제 양품인 경우 46331 + 1797 =  48128\n",
    "# 모델을 이용한 예측결과가 양품인 경우 0 + 1797 = 1797"
   ]
  },
  {
   "cell_type": "markdown",
   "id": "f26b8fc6",
   "metadata": {},
   "source": [
    "### 5-5. 모델 평가 시각화"
   ]
  },
  {
   "cell_type": "code",
   "execution_count": 104,
   "id": "f6a249b0",
   "metadata": {},
   "outputs": [
    {
     "data": {
      "text/html": [
       "<div>\n",
       "<style scoped>\n",
       "    .dataframe tbody tr th:only-of-type {\n",
       "        vertical-align: middle;\n",
       "    }\n",
       "\n",
       "    .dataframe tbody tr th {\n",
       "        vertical-align: top;\n",
       "    }\n",
       "\n",
       "    .dataframe thead th {\n",
       "        text-align: right;\n",
       "    }\n",
       "</style>\n",
       "<table border=\"1\" class=\"dataframe\">\n",
       "  <thead>\n",
       "    <tr style=\"text-align: right;\">\n",
       "      <th></th>\n",
       "      <th>T</th>\n",
       "      <th>F</th>\n",
       "    </tr>\n",
       "  </thead>\n",
       "  <tbody>\n",
       "    <tr>\n",
       "      <th>T</th>\n",
       "      <td>25344</td>\n",
       "      <td>0</td>\n",
       "    </tr>\n",
       "    <tr>\n",
       "      <th>F</th>\n",
       "      <td>43833</td>\n",
       "      <td>4295</td>\n",
       "    </tr>\n",
       "  </tbody>\n",
       "</table>\n",
       "</div>"
      ],
      "text/plain": [
       "       T     F\n",
       "T  25344     0\n",
       "F  43833  4295"
      ]
     },
     "execution_count": 104,
     "metadata": {},
     "output_type": "execute_result"
    }
   ],
   "source": [
    "arr = [[25344, 0],\n",
    "        [43833, 4295]]\n",
    "\n",
    "df_cm = pd.DataFrame(arr, index=[i for i in 'TF'], columns = [i for i in 'TF'])\n",
    "df_cm"
   ]
  },
  {
   "cell_type": "code",
   "execution_count": 105,
   "id": "f2268aec",
   "metadata": {},
   "outputs": [
    {
     "data": {
      "text/plain": [
       "<AxesSubplot:title={'center':'confusion matrix without normalization'}>"
      ]
     },
     "execution_count": 105,
     "metadata": {},
     "output_type": "execute_result"
    },
    {
     "data": {
      "image/png": "[encoded data removed]",
      "text/plain": [
       "<Figure size 504x360 with 2 Axes>"
      ]
     },
     "metadata": {
      "needs_background": "light"
     },
     "output_type": "display_data"
    }
   ],
   "source": [
    "plt.figure(figsize=(7,5))\n",
    "plt.title('confusion matrix without normalization')\n",
    "sns.heatmap(df_cm, annot=True, fmt='d')"
   ]
  },
  {
   "cell_type": "markdown",
   "id": "47563e5e",
   "metadata": {},
   "source": [
    "### 5-6. 모델 성능 비교"
   ]
  },
  {
   "cell_type": "code",
   "id": "15ed6fa5",
   "metadata": {
    "jupyter": {
     "is_executing": true
    }
   },
   "source": [
    "predict = 0\n",
    "real = 0\n",
    "\n",
    "for i in range(len(df2)):\n",
    "    if df2['real_fault'][i] == 1:\n",
    "        real += 1\n",
    "    else:\n",
    "        real = real\n",
    "        \n",
    "for j in range(len(df2)):\n",
    "    if df2['pred_fault'][j] == 1 and df2['real_fault'][j] == 1:\n",
    "        predict += 1\n",
    "    else:\n",
    "        predict = predict\n",
    "        \n",
    "print('실제 불량 횟수 : ', real)\n",
    "print('표준데이터를 이용한 불량 검출 횟수 : ', predict)\n",
    "print('실제 불량 중 표준데이터를 이용하여 불량을 정확히 검출한 비율 : ', round(recall_score(df2['real_fault'], df2['pred_fault']), 2) * 100, '%')"
   ],
   "outputs": [],
   "execution_count": null
  },
  {
   "cell_type": "code",
   "execution_count": null,
   "id": "d04a389a",
   "metadata": {},
   "outputs": [],
   "source": [
    "mean_data = df2['real_y'].mean()\n",
    "print(mean_data)"
   ]
  },
  {
   "cell_type": "code",
   "execution_count": null,
   "id": "8b3bb57b",
   "metadata": {},
   "outputs": [],
   "source": [
    "mean_pred = []\n",
    "for a in range(len(df2)):\n",
    "    if df2['real_y'][a] > mean_data:\n",
    "        mean_pred.append(1)\n",
    "    else:\n",
    "        mean_pred.append(0)\n",
    "df2['mean_fault'] = mean_pred\n",
    "\n",
    "df2\n",
    "\n",
    "# print(44780000000.0 > 1.6500000000000244e+36)"
   ]
  },
  {
   "cell_type": "code",
   "execution_count": null,
   "id": "59a80c25",
   "metadata": {},
   "outputs": [],
   "source": [
    "predict = 0\n",
    "real = 0\n",
    "\n",
    "for i in range(len(df2)):\n",
    "    if df2['real_fault'][i] == 1:\n",
    "        real += 1\n",
    "    else:\n",
    "        real = real\n",
    "        \n",
    "for j in range(len(df2)):\n",
    "    if df2['mean_fault'][j] == 1 and df2['real_fault'][j] == 1:\n",
    "        predict += 1\n",
    "    else:\n",
    "        predict = predict\n",
    "        \n",
    "df2['mean_fault'] = mean_pred\n",
    "print('실제 불량 횟수 : ', real)\n",
    "print('표준데이터를 이용한 불량 검출 횟수 : ', predict)\n",
    "print('실제 불량 중 표준데이터를 이용하여 불량을 정확히 검출한 비율 : ', \n",
    "      round(recall_score(df2['real_fault'], df2['mean_fault']), 2) * 100, '%')"
   ]
  },
  {
   "cell_type": "code",
   "execution_count": null,
   "id": "3e07f915",
   "metadata": {},
   "outputs": [],
   "source": [
    "mean_pred = []\n",
    "for a in range(len(df2)):\n",
    "    if df2['real_y'][a] < mean_data:\n",
    "        mean_pred.append(1)\n",
    "    else:\n",
    "        mean_pred.append(0)\n",
    "df2['mean_fault'] = mean_pred\n",
    "\n",
    "df2"
   ]
  },
  {
   "cell_type": "code",
   "execution_count": null,
   "id": "b06730c2",
   "metadata": {},
   "outputs": [],
   "source": [
    "predict = 0\n",
    "real = 0\n",
    "\n",
    "for i in range(len(df2)):\n",
    "    if df2['real_fault'][i] == 1:\n",
    "        real += 1\n",
    "    else:\n",
    "        real = real\n",
    "        \n",
    "for j in range(len(df2)):\n",
    "    if df2['mean_fault'][j] == 1 and df2['real_fault'][j] == 1:\n",
    "        predict += 1\n",
    "    else:\n",
    "        predict = predict\n",
    "        \n",
    "df2['mean_fault'] = mean_pred\n",
    "print('실제 불량 횟수 : ', real)\n",
    "print('표준데이터를 이용한 불량 검출 횟수 : ', predict)\n",
    "print('실제 불량 중 표준데이터를 이용하여 불량을 정확히 검출한 비율 : ', round(recall_score(df2['real_fault'], df2['mean_fault']), 2) * 100, '%')"
   ]
  }
 ],
 "metadata": {
  "kernelspec": {
   "display_name": "Python 3 (ipykernel)",
   "language": "python",
   "name": "python3"
  },
  "language_info": {
   "codemirror_mode": {
    "name": "ipython",
    "version": 3
   },
   "file_extension": ".py",
   "mimetype": "text/x-python",
   "name": "python",
   "nbconvert_exporter": "python",
   "pygments_lexer": "ipython3",
   "version": "3.8.10"
  }
 },
 "nbformat": 4,
 "nbformat_minor": 5
}
